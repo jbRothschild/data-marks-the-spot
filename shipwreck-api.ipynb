{
 "cells": [
  {
   "attachments": {},
   "cell_type": "markdown",
   "metadata": {},
   "source": [
    "# Global Maritime Wreck Database\n",
    "\n",
    "From the website tutorial: [EarthData BitBucket](https://git.earthdata.nasa.gov/projects/LPDUR/repos/cmr-api---hls-bulk-query/browse/how_to_hls_bulk_cmr_query.ipynb)\n",
    "Data CMR page: [EarthData page](https://cmr.earthdata.nasa.gov/search/concepts/C1214613883-SCIOPS)\n",
    "\n",
    "I think that this is not possible since the data for the wrecks isn't hosted on CMR website (I don't think)."
   ]
  },
  {
   "cell_type": "code",
   "execution_count": 2,
   "metadata": {},
   "outputs": [],
   "source": [
    "import requests\n",
    "import math\n",
    "import aiohttp\n",
    "import asyncio\n",
    "import time"
   ]
  },
  {
   "cell_type": "code",
   "execution_count": 3,
   "metadata": {},
   "outputs": [],
   "source": [
    "CMR_OPS = 'https://cmr.earthdata.nasa.gov/search' # CMR API Endpoint\n",
    "url = f'{CMR_OPS}/{\"granules\"}'"
   ]
  },
  {
   "cell_type": "code",
   "execution_count": 27,
   "metadata": {},
   "outputs": [],
   "source": [
    "collections = ['C1214613883-SCIOPS'] # Collection ID?\n",
    "#collections = ['Jeremy']\n",
    "datetime_range = '1970-01-01T00:00:00.000Z,2023-07-01T23:59:59Z'\n",
    "page_size = 2000"
   ]
  },
  {
   "cell_type": "code",
   "execution_count": null,
   "metadata": {},
   "outputs": [],
   "source": [
    "response = requests.get(url, \n",
    "                        params={\n",
    "                            'concept_id': collections,\n",
    "                            'temporal': datetime_range,\n",
    "                            'page_size': page_size,\n",
    "                            #'has_granules' : 'false',\n",
    "                            },\n",
    "                        headers={\n",
    "                            'Accept': 'application/iso19115+xml'  # 'application/json'\n",
    "                            }\n",
    "                       )\n",
    "print(response.status_code)"
   ]
  },
  {
   "cell_type": "code",
   "execution_count": 14,
   "metadata": {},
   "outputs": [
    {
     "name": "stdout",
     "output_type": "stream",
     "text": [
      "0\n"
     ]
    }
   ],
   "source": [
    "print(response.headers['CMR-Hits']) # Resulting quantity of granules/items."
   ]
  },
  {
   "cell_type": "code",
   "execution_count": 9,
   "metadata": {},
   "outputs": [
    {
     "data": {
      "text/plain": [
       "0"
      ]
     },
     "execution_count": 9,
     "metadata": {},
     "output_type": "execute_result"
    }
   ],
   "source": [
    "granules = response.json()['feed']['entry']\n",
    "len(granules) # Resulting quantity of granules on page one."
   ]
  },
  {
   "cell_type": "code",
   "execution_count": 10,
   "metadata": {},
   "outputs": [
    {
     "data": {
      "text/plain": [
       "0"
      ]
     },
     "execution_count": 10,
     "metadata": {},
     "output_type": "execute_result"
    }
   ],
   "source": [
    "file_list = []\n",
    "for g in granules:\n",
    "    file_list.extend([x['href'] for x in g['links'] if 'https' in x['href'] and '.tif' in x['href']])\n",
    "len(file_list) # Total number of assets from page one of granules."
   ]
  },
  {
   "cell_type": "code",
   "execution_count": null,
   "metadata": {},
   "outputs": [],
   "source": []
  },
  {
   "attachments": {},
   "cell_type": "markdown",
   "metadata": {},
   "source": [
    "# UK Admirality\n",
    "\n",
    "Data from [UK government website](https://datahub.admiralty.co.uk/portal/home/item.html?id=8ec05dd1b0ca40339ecd6842eac32e2c)"
   ]
  },
  {
   "cell_type": "code",
   "execution_count": 31,
   "metadata": {},
   "outputs": [
    {
     "name": "stdout",
     "output_type": "stream",
     "text": [
      "      wreck_id                                         wreck_cate obstructio  \\\n",
      "0        16219                                                NaN        NaN   \n",
      "1        22622                                non-dangerous wreck        NaN   \n",
      "2        16191                                non-dangerous wreck        NaN   \n",
      "3        16245                                                NaN        NaN   \n",
      "4        16197                                                NaN        NaN   \n",
      "...        ...                                                ...        ...   \n",
      "97850    41766  wreck showing any portion of hull or superstru...        NaN   \n",
      "97851   101630                                    dangerous wreck        NaN   \n",
      "97852   101642                                                NaN        NaN   \n",
      "97853    65193                                non-dangerous wreck        NaN   \n",
      "97854    82116                                    dangerous wreck        NaN   \n",
      "\n",
      "      status  classifica                 position     latitude    longitude  \\\n",
      "0       dead         NaN    50 1.896 N,5 33.408 W   50 1.896 N   5 33.408 W   \n",
      "1       dead         NaN   49 58.036 N,5 21.877 W  49 58.036 N   5 21.877 W   \n",
      "2       dead         NaN    50 1.036 N,5 40.059 W   50 1.036 N   5 40.059 W   \n",
      "3       dead         NaN    50 2.387 N,5 31.725 W   50 2.387 N   5 31.725 W   \n",
      "4       dead         NaN    50 1.136 N,5 38.259 W   50 1.136 N   5 38.259 W   \n",
      "...      ...         ...                      ...          ...          ...   \n",
      "97850    NaN         NaN    5 32.844 N,5 37.848 E   5 32.844 N   5 37.848 E   \n",
      "97851    NaN         NaN    53 57.72 N,14 19.83 E   53 57.72 N   14 19.83 E   \n",
      "97852    NaN         NaN     19 49.1 N,105 57.1 E    19 49.1 N   105 57.1 E   \n",
      "97853    NaN         NaN  54 43.008 N,18 48.382 E  54 43.008 N  18 48.382 E   \n",
      "97854    NaN         NaN   52 43.508 N,1 57.127 E  52 43.508 N   1 57.127 E   \n",
      "\n",
      "      horizontal  limits  ...         last_senso original_d last_detec  \\\n",
      "0          WGD 2     NaN  ...    acoustic sensor       1975       2016   \n",
      "1          WGD 2     NaN  ...    acoustic sensor       1945       2016   \n",
      "2          WGD 2     NaN  ...    acoustic sensor       1916       2016   \n",
      "3          WGD 2     NaN  ...    acoustic sensor       1975       2016   \n",
      "4          WGD 2     NaN  ...    acoustic sensor       1975       2016   \n",
      "...          ...     ...  ...                ...        ...        ...   \n",
      "97850      WGD 2     NaN  ...  Satellite Imagery       1984       2023   \n",
      "97851      WGD 2     NaN  ...      None reported       2022       2023   \n",
      "97852      WGD 2     NaN  ...                NaN       2023        NaN   \n",
      "97853      WGD 2     NaN  ...      None reported       2004       2023   \n",
      "97854      WGD 2     NaN  ...                NaN       2014        NaN   \n",
      "\n",
      "                                     original00 markers  \\\n",
      "0                                  naval vessel     NaN   \n",
      "1                                  naval vessel     NaN   \n",
      "2                                         other     NaN   \n",
      "3                                  naval vessel     NaN   \n",
      "4                                  naval vessel     NaN   \n",
      "...                                         ...     ...   \n",
      "97850  national HO/authority notice to mariners     NaN   \n",
      "97851              national HO/authority charts     NaN   \n",
      "97852  national HO/authority notice to mariners     NaN   \n",
      "97853  national HO/authority notice to mariners     NaN   \n",
      "97854                             survey vessel     NaN   \n",
      "\n",
      "                                              circumstan  \\\n",
      "0                                                    NaN   \n",
      "1      \\n   \\n   \\n   EX-HEDWIG. BUILT IN 1898 BY A G...   \n",
      "2      \\n   \\n   \\n   SUNK BY GERMAN SUBMARINE IN APP...   \n",
      "3                                                    NaN   \n",
      "4                                                    NaN   \n",
      "...                                                  ...   \n",
      "97850                                                NaN   \n",
      "97851                                                NaN   \n",
      "97852                                                NaN   \n",
      "97853                                                NaN   \n",
      "97854                                                NaN   \n",
      "\n",
      "                                              surveying_  \\\n",
      "0      \\n   H2590/76\\n   27.2.76\\n   NSC LOCATED IN 5...   \n",
      "1      \\n   \\n   \\n   BELEIVED SUNK 6 MILES W OF THE ...   \n",
      "2      \\n   \\n   \\n   SUNK BY GERMAN SUBMARINE IN APP...   \n",
      "3      \\n   H2590/76\\n   26.2.76\\n   NSC LOCATED IN 5...   \n",
      "4      \\n   H2590/76\\n   2.5.76\\n   LOCATED IN 500104...   \n",
      "...                                                  ...   \n",
      "97850  \\n   H3384/84\\n   15.6.84\\n   H3384/84 15.6.84...   \n",
      "97851                                                NaN   \n",
      "97852                                                NaN   \n",
      "97853  \\n   HH323/460/04\\n   25.11.04\\n   WK 71.5MTRS...   \n",
      "97854  \\n   SEP 2014/000101130\\n   2.1.5\\n   EXAM'D 2...   \n",
      "\n",
      "                                      general_co last_amend  \\\n",
      "0                                            NaN   20161027   \n",
      "1                                            NaN   20161027   \n",
      "2                                            NaN   20161026   \n",
      "3                                            NaN   20161027   \n",
      "4                                            NaN   20161026   \n",
      "...                                          ...        ...   \n",
      "97850                                        NaN   20230518   \n",
      "97851                              UK NM 1653/23   20230517   \n",
      "97852                                UK NM 21/23   20230518   \n",
      "97853                                        NaN   20230517   \n",
      "97854  UPRIGHT, INTACT, PART BURIED FWD, BOWS NE   20150102   \n",
      "\n",
      "                              geometry  \n",
      "0       MULTIPOINT (-5.55679 50.03159)  \n",
      "1       MULTIPOINT (-5.36462 49.96727)  \n",
      "2       MULTIPOINT (-5.66764 50.01726)  \n",
      "3       MULTIPOINT (-5.52874 50.03979)  \n",
      "4       MULTIPOINT (-5.63765 50.01893)  \n",
      "...                                ...  \n",
      "97850     MULTIPOINT (5.63080 5.54739)  \n",
      "97851   MULTIPOINT (14.33050 53.96200)  \n",
      "97852  MULTIPOINT (105.95167 19.81833)  \n",
      "97853   MULTIPOINT (18.80636 54.71680)  \n",
      "97854    MULTIPOINT (1.95212 52.72513)  \n",
      "\n",
      "[97855 rows x 51 columns]\n"
     ]
    }
   ],
   "source": [
    "import geopandas as gpd\n",
    "import os\n",
    "\n",
    "DATADIR = 'data'\n",
    "shapefile = gpd.read_file(DATADIR + os.sep +\"UK/Shapefiles/Points.shp\")\n",
    "print(shapefile)\n"
   ]
  },
  {
   "cell_type": "code",
   "execution_count": null,
   "metadata": {},
   "outputs": [],
   "source": []
  }
 ],
 "metadata": {
  "kernelspec": {
   "display_name": "Python 3",
   "language": "python",
   "name": "python3"
  },
  "language_info": {
   "codemirror_mode": {
    "name": "ipython",
    "version": 3
   },
   "file_extension": ".py",
   "mimetype": "text/x-python",
   "name": "python",
   "nbconvert_exporter": "python",
   "pygments_lexer": "ipython3",
   "version": "3.10.6"
  },
  "orig_nbformat": 4
 },
 "nbformat": 4,
 "nbformat_minor": 2
}
